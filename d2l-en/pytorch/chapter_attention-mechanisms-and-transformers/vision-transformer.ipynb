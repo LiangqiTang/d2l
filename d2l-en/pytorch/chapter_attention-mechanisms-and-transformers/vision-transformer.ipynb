{
 "cells": [
  {
   "cell_type": "markdown",
   "id": "0e0f2b43",
   "metadata": {
    "origin_pos": 1
   },
   "source": [
    "# Transformers for Vision\n",
    ":label:`sec_vision-transformer`\n",
    "\n",
    "The Transformer architecture was initially proposed\n",
    "for sequence-to-sequence learning,\n",
    "with a focus on machine translation.\n",
    "Subsequently, Transformers emerged as the model of choice\n",
    "in various natural language processing tasks :cite:`Radford.Narasimhan.Salimans.ea.2018,Radford.Wu.Child.ea.2019,brown2020language,Devlin.Chang.Lee.ea.2018,raffel2020exploring`.\n",
    "However, in the field of computer vision\n",
    "the dominant architecture has remained\n",
    "the CNN (:numref:`chap_modern_cnn`).\n",
    "Naturally, researchers started to wonder\n",
    "if it might be possible to do better\n",
    "by adapting Transformer models to image data.\n",
    "This question sparked immense interest\n",
    "in the computer vision community.\n",
    "Recently, :citet:`ramachandran2019stand` proposed\n",
    "a scheme for replacing convolution with self-attention.\n",
    "However, its use of specialized patterns in attention\n",
    "makes it hard to scale up models on hardware accelerators.\n",
    "Then, :citet:`cordonnier2020relationship` theoretically proved\n",
    "that self-attention can learn to behave similarly to convolution.\n",
    "Empirically, $2 \\times 2$ patches were taken from images as inputs,\n",
    "but the small patch size makes the model\n",
    "only applicable to image data with low resolutions.\n",
    "\n",
    "Without specific constraints on patch size,\n",
    "*vision Transformers* (ViTs)\n",
    "extract patches from images\n",
    "and feed them into a Transformer encoder\n",
    "to obtain a global representation,\n",
    "which will finally be transformed for classification :cite:`Dosovitskiy.Beyer.Kolesnikov.ea.2021`.\n",
    "Notably, Transformers show better scalability than CNNs:\n",
    "and when training larger models on larger datasets,\n",
    "vision Transformers outperform ResNets by a significant margin.\n",
    "Similar to the landscape of network architecture design in natural language processing,\n",
    "Transformers have also become a game-changer in computer vision.\n"
   ]
  },
  {
   "cell_type": "code",
   "execution_count": 1,
   "id": "8541afe5",
   "metadata": {
    "origin_pos": 2,
    "tab": [
     "pytorch"
    ]
   },
   "outputs": [
    {
     "name": "stderr",
     "output_type": "stream",
     "text": [
      "/Users/liangqi/anaconda3/envs/PyTc/lib/python3.11/site-packages/onnxscript/converter.py:820: FutureWarning: 'onnxscript.values.Op.param_schemas' is deprecated in version 0.1 and will be removed in the future. Please use '.op_signature' instead.\n",
      "  param_schemas = callee.param_schemas()\n",
      "/Users/liangqi/anaconda3/envs/PyTc/lib/python3.11/site-packages/onnxscript/converter.py:820: FutureWarning: 'onnxscript.values.OnnxFunction.param_schemas' is deprecated in version 0.1 and will be removed in the future. Please use '.op_signature' instead.\n",
      "  param_schemas = callee.param_schemas()\n"
     ]
    }
   ],
   "source": [
    "import torch\n",
    "from torch import nn\n",
    "from d2l import torch as d2l"
   ]
  },
  {
   "cell_type": "markdown",
   "id": "87b13ca5",
   "metadata": {
    "origin_pos": 4
   },
   "source": [
    "## Model\n",
    "\n",
    ":numref:`fig_vit` depicts\n",
    "the model architecture of vision Transformers.\n",
    "This architecture consists of a stem\n",
    "that patchifies images,\n",
    "a body based on the multilayer Transformer encoder,\n",
    "and a head that transforms the global representation\n",
    "into the output label.\n",
    "\n",
    "![The vision Transformer architecture. In this example, an image is split into nine patches. A special “&lt;cls&gt;” token and the nine flattened image patches are transformed via patch embedding and $\\mathit{n}$ Transformer encoder blocks into ten representations, respectively. The “&lt;cls&gt;” representation is further transformed into the output label.](../img/vit.svg)\n",
    ":label:`fig_vit`\n",
    "\n",
    "Consider an input image with height $h$, width $w$,\n",
    "and $c$ channels.\n",
    "Specifying the patch height and width both as $p$,\n",
    "the image is split into a sequence of $m = hw/p^2$ patches,\n",
    "where each patch is flattened to a vector of length $cp^2$.\n",
    "In this way, image patches can be treated similarly to tokens in text sequences by Transformer encoders.\n",
    "A special “&lt;cls&gt;” (class) token and\n",
    "the $m$ flattened image patches are linearly projected\n",
    "into a sequence of $m+1$ vectors,\n",
    "summed with learnable positional embeddings.\n",
    "The multilayer Transformer encoder\n",
    "transforms $m+1$ input vectors\n",
    "into the same number of output vector representations of the same length.\n",
    "It works exactly the same way as the original Transformer encoder in :numref:`fig_transformer`,\n",
    "only differing in the position of normalization.\n",
    "Since the “&lt;cls&gt;” token attends to all the image patches\n",
    "via self-attention (see :numref:`fig_cnn-rnn-self-attention`),\n",
    "its representation from the Transformer encoder output\n",
    "will be further transformed into the output label.\n",
    "\n",
    "## Patch Embedding\n",
    "\n",
    "To implement a vision Transformer, let's start\n",
    "with patch embedding in :numref:`fig_vit`.\n",
    "Splitting an image into patches\n",
    "and linearly projecting these flattened patches\n",
    "can be simplified as a single convolution operation,\n",
    "where both the kernel size and the stride size are set to the patch size.\n"
   ]
  },
  {
   "cell_type": "code",
   "execution_count": 2,
   "id": "fe2ce61f",
   "metadata": {
    "origin_pos": 5,
    "tab": [
     "pytorch"
    ]
   },
   "outputs": [],
   "source": [
    "class PatchEmbedding(nn.Module):\n",
    "    def __init__(self, img_size=96, patch_size=16, num_hiddens=512):\n",
    "        super().__init__()\n",
    "        def _make_tuple(x):\n",
    "            if not isinstance(x, (list, tuple)):\n",
    "                return (x, x)\n",
    "            return x\n",
    "        img_size, patch_size = _make_tuple(img_size), _make_tuple(patch_size)\n",
    "        self.num_patches = (img_size[0] // patch_size[0]) * (\n",
    "            img_size[1] // patch_size[1])\n",
    "        self.conv = nn.LazyConv2d(num_hiddens, kernel_size=patch_size,\n",
    "                                  stride=patch_size)\n",
    "\n",
    "    def forward(self, X):\n",
    "        # Output shape: (batch size, no. of patches, no. of channels)\n",
    "        return self.conv(X).flatten(2).transpose(1, 2)"
   ]
  },
  {
   "cell_type": "markdown",
   "id": "d494724f",
   "metadata": {
    "origin_pos": 7
   },
   "source": [
    "In the following example, taking images with height and width of `img_size` as inputs,\n",
    "the patch embedding outputs `(img_size//patch_size)**2` patches\n",
    "that are linearly projected to vectors of length `num_hiddens`.\n"
   ]
  },
  {
   "cell_type": "code",
   "execution_count": 3,
   "id": "255a1c42",
   "metadata": {
    "origin_pos": 8,
    "tab": [
     "pytorch"
    ]
   },
   "outputs": [],
   "source": [
    "img_size, patch_size, num_hiddens, batch_size = 96, 16, 512, 4\n",
    "patch_emb = PatchEmbedding(img_size, patch_size, num_hiddens)\n",
    "X = torch.zeros(batch_size, 3, img_size, img_size)\n",
    "d2l.check_shape(patch_emb(X),\n",
    "                (batch_size, (img_size//patch_size)**2, num_hiddens))"
   ]
  },
  {
   "cell_type": "markdown",
   "id": "ef8c9135",
   "metadata": {
    "origin_pos": 10
   },
   "source": [
    "## Vision Transformer Encoder\n",
    ":label:`subsec_vit-encoder`\n",
    "\n",
    "The MLP of the vision Transformer encoder is slightly different\n",
    "from the positionwise FFN of the original Transformer encoder\n",
    "(see :numref:`subsec_positionwise-ffn`).\n",
    "First, here the activation function uses the Gaussian error linear unit (GELU),\n",
    "which can be considered as a smoother version of the ReLU :cite:`Hendrycks.Gimpel.2016`.\n",
    "Second, dropout is applied to the output of each fully connected layer in the MLP for regularization.\n"
   ]
  },
  {
   "cell_type": "code",
   "execution_count": 4,
   "id": "42d2bf94",
   "metadata": {
    "origin_pos": 11,
    "tab": [
     "pytorch"
    ]
   },
   "outputs": [],
   "source": [
    "class ViTMLP(nn.Module):\n",
    "    def __init__(self, mlp_num_hiddens, mlp_num_outputs, dropout=0.5):\n",
    "        super().__init__()\n",
    "        self.dense1 = nn.LazyLinear(mlp_num_hiddens)\n",
    "        self.gelu = nn.GELU()\n",
    "        self.dropout1 = nn.Dropout(dropout)\n",
    "        self.dense2 = nn.LazyLinear(mlp_num_outputs)\n",
    "        self.dropout2 = nn.Dropout(dropout)\n",
    "\n",
    "    def forward(self, x):\n",
    "        return self.dropout2(self.dense2(self.dropout1(self.gelu(\n",
    "            self.dense1(x)))))"
   ]
  },
  {
   "cell_type": "markdown",
   "id": "96227187",
   "metadata": {
    "origin_pos": 13
   },
   "source": [
    "The vision Transformer encoder block implementation\n",
    "just follows the pre-normalization design in :numref:`fig_vit`,\n",
    "where normalization is applied right *before* multi-head attention or the MLP.\n",
    "In contrast to post-normalization (\"add & norm\" in :numref:`fig_transformer`),\n",
    "where normalization is placed right *after* residual connections,\n",
    "pre-normalization leads to more effective or efficient training for Transformers :cite:`baevski2018adaptive,wang2019learning,xiong2020layer`.\n"
   ]
  },
  {
   "cell_type": "code",
   "execution_count": 5,
   "id": "b1b217b6",
   "metadata": {
    "origin_pos": 14,
    "tab": [
     "pytorch"
    ]
   },
   "outputs": [],
   "source": [
    "class ViTBlock(nn.Module):\n",
    "    def __init__(self, num_hiddens, norm_shape, mlp_num_hiddens,\n",
    "                 num_heads, dropout, use_bias=False):\n",
    "        super().__init__()\n",
    "        self.ln1 = nn.LayerNorm(norm_shape)\n",
    "        self.attention = d2l.MultiHeadAttention(num_hiddens, num_heads,\n",
    "                                                dropout, use_bias)\n",
    "        self.ln2 = nn.LayerNorm(norm_shape)\n",
    "        self.mlp = ViTMLP(mlp_num_hiddens, num_hiddens, dropout)\n",
    "\n",
    "    def forward(self, X, valid_lens=None):\n",
    "        X = X + self.attention(*([self.ln1(X)] * 3), valid_lens)\n",
    "        return X + self.mlp(self.ln2(X))"
   ]
  },
  {
   "cell_type": "markdown",
   "id": "57ad1db5",
   "metadata": {
    "origin_pos": 16
   },
   "source": [
    "Just as in :numref:`subsec_transformer-encoder`,\n",
    "no vision Transformer encoder block changes its input shape.\n"
   ]
  },
  {
   "cell_type": "code",
   "execution_count": 6,
   "id": "e68e752d",
   "metadata": {
    "origin_pos": 17,
    "tab": [
     "pytorch"
    ]
   },
   "outputs": [],
   "source": [
    "X = torch.ones((2, 100, 24))\n",
    "encoder_blk = ViTBlock(24, 24, 48, 8, 0.5)\n",
    "encoder_blk.eval()\n",
    "d2l.check_shape(encoder_blk(X), X.shape)"
   ]
  },
  {
   "cell_type": "markdown",
   "id": "99decfba",
   "metadata": {
    "origin_pos": 19
   },
   "source": [
    "## Putting It All Together\n",
    "\n",
    "The forward pass of vision Transformers below is straightforward.\n",
    "First, input images are fed into an `PatchEmbedding` instance,\n",
    "whose output is concatenated with the “&lt;cls&gt;”  token embedding.\n",
    "They are summed with learnable positional embeddings before dropout.\n",
    "Then the output is fed into the Transformer encoder that stacks `num_blks` instances of the `ViTBlock` class.\n",
    "Finally, the representation of the “&lt;cls&gt;”  token is projected by the network head.\n"
   ]
  },
  {
   "cell_type": "code",
   "execution_count": 7,
   "id": "6ad49d85",
   "metadata": {
    "origin_pos": 20,
    "tab": [
     "pytorch"
    ]
   },
   "outputs": [],
   "source": [
    "class ViT(d2l.Classifier):\n",
    "    \"\"\"Vision Transformer.\"\"\"\n",
    "    def __init__(self, img_size, patch_size, num_hiddens, mlp_num_hiddens,\n",
    "                 num_heads, num_blks, emb_dropout, blk_dropout, lr=0.1,\n",
    "                 use_bias=False, num_classes=10):\n",
    "        super().__init__()\n",
    "        self.save_hyperparameters()\n",
    "        self.patch_embedding = PatchEmbedding(\n",
    "            img_size, patch_size, num_hiddens)\n",
    "        self.cls_token = nn.Parameter(torch.zeros(1, 1, num_hiddens))\n",
    "        num_steps = self.patch_embedding.num_patches + 1  # Add the cls token\n",
    "        # Positional embeddings are learnable\n",
    "        self.pos_embedding = nn.Parameter(\n",
    "            torch.randn(1, num_steps, num_hiddens))\n",
    "        self.dropout = nn.Dropout(emb_dropout)\n",
    "        self.blks = nn.Sequential()\n",
    "        for i in range(num_blks):\n",
    "            self.blks.add_module(f\"{i}\", ViTBlock(\n",
    "                num_hiddens, num_hiddens, mlp_num_hiddens,\n",
    "                num_heads, blk_dropout, use_bias))\n",
    "        self.head = nn.Sequential(nn.LayerNorm(num_hiddens),\n",
    "                                  nn.Linear(num_hiddens, num_classes))\n",
    "\n",
    "    def forward(self, X):\n",
    "        X = self.patch_embedding(X)\n",
    "        X = torch.cat((self.cls_token.expand(X.shape[0], -1, -1), X), 1)\n",
    "        X = self.dropout(X + self.pos_embedding)\n",
    "        for blk in self.blks:\n",
    "            X = blk(X)\n",
    "        return self.head(X[:, 0])"
   ]
  },
  {
   "cell_type": "markdown",
   "id": "5cc66ad2",
   "metadata": {
    "origin_pos": 22
   },
   "source": [
    "## Training\n",
    "\n",
    "Training a vision Transformer on the Fashion-MNIST dataset is just like how CNNs were trained in :numref:`chap_modern_cnn`.\n"
   ]
  },
  {
   "cell_type": "code",
   "execution_count": null,
   "id": "85466f05",
   "metadata": {
    "origin_pos": 23,
    "tab": [
     "pytorch"
    ]
   },
   "outputs": [
    {
     "name": "stderr",
     "output_type": "stream",
     "text": [
      "/Users/liangqi/anaconda3/envs/PyTc/lib/python3.11/site-packages/onnxscript/converter.py:820: FutureWarning: 'onnxscript.values.Op.param_schemas' is deprecated in version 0.1 and will be removed in the future. Please use '.op_signature' instead.\n",
      "  param_schemas = callee.param_schemas()\n",
      "/Users/liangqi/anaconda3/envs/PyTc/lib/python3.11/site-packages/onnxscript/converter.py:820: FutureWarning: 'onnxscript.values.Op.param_schemas' is deprecated in version 0.1 and will be removed in the future. Please use '.op_signature' instead.\n",
      "  param_schemas = callee.param_schemas()\n",
      "/Users/liangqi/anaconda3/envs/PyTc/lib/python3.11/site-packages/onnxscript/converter.py:820: FutureWarning: 'onnxscript.values.Op.param_schemas' is deprecated in version 0.1 and will be removed in the future. Please use '.op_signature' instead.\n",
      "  param_schemas = callee.param_schemas()\n",
      "/Users/liangqi/anaconda3/envs/PyTc/lib/python3.11/site-packages/onnxscript/converter.py:820: FutureWarning: 'onnxscript.values.OnnxFunction.param_schemas' is deprecated in version 0.1 and will be removed in the future. Please use '.op_signature' instead.\n",
      "  param_schemas = callee.param_schemas()\n",
      "/Users/liangqi/anaconda3/envs/PyTc/lib/python3.11/site-packages/onnxscript/converter.py:820: FutureWarning: 'onnxscript.values.OnnxFunction.param_schemas' is deprecated in version 0.1 and will be removed in the future. Please use '.op_signature' instead.\n",
      "  param_schemas = callee.param_schemas()\n",
      "/Users/liangqi/anaconda3/envs/PyTc/lib/python3.11/site-packages/onnxscript/converter.py:820: FutureWarning: 'onnxscript.values.Op.param_schemas' is deprecated in version 0.1 and will be removed in the future. Please use '.op_signature' instead.\n",
      "  param_schemas = callee.param_schemas()\n",
      "/Users/liangqi/anaconda3/envs/PyTc/lib/python3.11/site-packages/onnxscript/converter.py:820: FutureWarning: 'onnxscript.values.OnnxFunction.param_schemas' is deprecated in version 0.1 and will be removed in the future. Please use '.op_signature' instead.\n",
      "  param_schemas = callee.param_schemas()\n",
      "/Users/liangqi/anaconda3/envs/PyTc/lib/python3.11/site-packages/onnxscript/converter.py:820: FutureWarning: 'onnxscript.values.OnnxFunction.param_schemas' is deprecated in version 0.1 and will be removed in the future. Please use '.op_signature' instead.\n",
      "  param_schemas = callee.param_schemas()\n"
     ]
    }
   ],
   "source": [
    "img_size, patch_size = 96, 16\n",
    "num_hiddens, mlp_num_hiddens, num_heads, num_blks = 512, 2048, 8, 2\n",
    "emb_dropout, blk_dropout, lr = 0.1, 0.1, 0.1\n",
    "model = ViT(img_size, patch_size, num_hiddens, mlp_num_hiddens, num_heads,\n",
    "            num_blks, emb_dropout, blk_dropout, lr)\n",
    "trainer = d2l.Trainer(max_epochs=10, num_gpus=1)\n",
    "data = d2l.FashionMNIST(batch_size=128, resize=(img_size, img_size))\n",
    "trainer.fit(model, data)"
   ]
  },
  {
   "cell_type": "markdown",
   "id": "0796777f",
   "metadata": {
    "origin_pos": 24
   },
   "source": [
    "## Summary and Discussion\n",
    "\n",
    "You may have noticed that for small datasets like Fashion-MNIST,\n",
    "our implemented vision Transformer\n",
    "does not outperform the ResNet in :numref:`sec_resnet`.\n",
    "Similar observations can be made even on the ImageNet dataset (1.2 million images).\n",
    "This is because Transformers *lack* those useful principles in convolution,\n",
    "such as translation invariance and locality (:numref:`sec_why-conv`).\n",
    "However, the picture changes when training larger models on larger datasets (e.g., 300 million images),\n",
    "where vision Transformers outperform ResNets by a large margin in image classification, demonstrating\n",
    "intrinsic superiority of Transformers in scalability :cite:`Dosovitskiy.Beyer.Kolesnikov.ea.2021`.\n",
    "The introduction of vision Transformers\n",
    "has changed the landscape of network design for modeling image data.\n",
    "They were soon shown to be effective on the ImageNet dataset\n",
    "with data-efficient training strategies of DeiT :cite:`touvron2021training`.\n",
    "However, the quadratic complexity of self-attention\n",
    "(:numref:`sec_self-attention-and-positional-encoding`)\n",
    "makes the Transformer architecture\n",
    "less suitable for higher-resolution images.\n",
    "Towards a general-purpose backbone network in computer vision,\n",
    "Swin Transformers addressed the quadratic computational complexity\n",
    "with respect to image size (:numref:`subsec_cnn-rnn-self-attention`)\n",
    "and reinstated convolution-like priors,\n",
    "extending the applicability of Transformers to a range of computer vision tasks\n",
    "beyond image classification with state-of-the-art results :cite:`liu2021swin`.\n",
    "\n",
    "## Exercises\n",
    "\n",
    "1. How does the value of `img_size` affect training time?\n",
    "1. Instead of projecting the “&lt;cls&gt;” token representation to the output, how would you project the averaged patch representations? Implement this change and see how it affects the accuracy.\n",
    "1. Can you modify hyperparameters to improve the accuracy of the vision Transformer?\n"
   ]
  },
  {
   "cell_type": "markdown",
   "id": "18eaf321",
   "metadata": {
    "origin_pos": 25,
    "tab": [
     "pytorch"
    ]
   },
   "source": [
    "[Discussions](https://discuss.d2l.ai/t/8943)\n"
   ]
  }
 ],
 "metadata": {
  "kernelspec": {
   "display_name": "Python 3 (ipykernel)",
   "language": "python",
   "name": "python3"
  },
  "language_info": {
   "codemirror_mode": {
    "name": "ipython",
    "version": 3
   },
   "file_extension": ".py",
   "mimetype": "text/x-python",
   "name": "python",
   "nbconvert_exporter": "python",
   "pygments_lexer": "ipython3",
   "version": "3.11.9"
  },
  "required_libs": []
 },
 "nbformat": 4,
 "nbformat_minor": 5
}
