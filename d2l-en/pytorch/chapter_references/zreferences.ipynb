{
 "cells": [
  {
   "cell_type": "markdown",
   "id": "be2622b4",
   "metadata": {
    "origin_pos": 0
   },
   "source": [
    "```eval_rst\n",
    ".. only:: html\n",
    "\n",
    "   References\n",
    "   ==========\n",
    "```\n",
    "\n",
    ":bibliography:`../d2l.bib`\n"
   ]
  }
 ],
 "metadata": {
  "kernelspec": {
   "display_name": "Python 3 (ipykernel)",
   "language": "python",
   "name": "python3"
  },
  "language_info": {
   "codemirror_mode": {
    "name": "ipython",
    "version": 3
   },
   "file_extension": ".py",
   "mimetype": "text/x-python",
   "name": "python",
   "nbconvert_exporter": "python",
   "pygments_lexer": "ipython3",
   "version": "3.11.9"
  },
  "required_libs": []
 },
 "nbformat": 4,
 "nbformat_minor": 5
}
